{
 "cells": [
  {
   "cell_type": "code",
   "execution_count": 1,
   "metadata": {},
   "outputs": [],
   "source": [
    "import pandas as pd\n",
    "import numpy as np\n",
    "\n",
    "import matplotlib.pyplot as plt\n",
    "import seaborn as sns\n",
    "\n",
    "from sklearn.linear_model import LinearRegression\n",
    "from sklearn.preprocessing import OneHotEncoder, StandardScaler\n",
    "\n",
    "from sklearn.compose import ColumnTransformer\n",
    "from sklearn.pipeline import Pipeline\n",
    "\n",
    "from sklearn.metrics import r2_score, mean_squared_error\n",
    "\n",
    "from sklearn.tree import DecisionTreeRegressor\n",
    "from sklearn.model_selection import GridSearchCV\n",
    "\n",
    "import catboost as cb"
   ]
  },
  {
   "cell_type": "code",
   "execution_count": 2,
   "metadata": {},
   "outputs": [],
   "source": [
    "df = pd.read_csv('./data/data.csv')"
   ]
  },
  {
   "attachments": {},
   "cell_type": "markdown",
   "metadata": {},
   "source": [
    "### Linear regression"
   ]
  },
  {
   "cell_type": "code",
   "execution_count": 28,
   "metadata": {},
   "outputs": [],
   "source": [
    "# train/test split\n",
    "df_train = df[~df['year'].isin([2018, 2019, 2020, 2021])]\n",
    "df_test = df[df['year'].isin([2018, 2019, 2020, 2021])]\n",
    "\n",
    "X_train = df_train.drop(columns=['target'])\n",
    "y_train = df_train['target']\n",
    "\n",
    "X_test = df_test.drop(columns=['target'])\n",
    "y_test = df_test['target']"
   ]
  },
  {
   "cell_type": "code",
   "execution_count": 66,
   "metadata": {},
   "outputs": [],
   "source": [
    "numeric_features = list(X_train.drop(columns=['state', 'crop']).columns)\n",
    "categorical_features = ['state', 'crop']"
   ]
  },
  {
   "cell_type": "code",
   "execution_count": 67,
   "metadata": {},
   "outputs": [
    {
     "name": "stdout",
     "output_type": "stream",
     "text": [
      "RMSE: 41.081826325629216\n",
      "R2: 0.5729797577343121\n"
     ]
    }
   ],
   "source": [
    "column_trainsformer = ColumnTransformer([\n",
    "    ('ohe', OneHotEncoder(handle_unknown='ignore'), categorical_features),\n",
    "    ('scaling', StandardScaler(), numeric_features)\n",
    "])\n",
    "\n",
    "pipeline = Pipeline(steps=[\n",
    "    ('ohe_and_scaling', column_trainsformer),\n",
    "    ('regression', LinearRegression())\n",
    "])\n",
    "\n",
    "model = pipeline.fit(X_train, y_train)\n",
    "y_pred = model.predict(X_test)\n",
    "print(f'RMSE: {mean_squared_error(y_test, y_pred, squared=False)}')\n",
    "print(f'R2: {r2_score(y_test, y_pred)}')"
   ]
  },
  {
   "attachments": {},
   "cell_type": "markdown",
   "metadata": {},
   "source": [
    "### Decision Tree"
   ]
  },
  {
   "cell_type": "code",
   "execution_count": null,
   "metadata": {},
   "outputs": [],
   "source": [
    "# Create a pipeline\n",
    "column_trainsformer = ColumnTransformer([\n",
    "    ('ohe', OneHotEncoder(handle_unknown='ignore'), categorical_features),\n",
    "    ('scaling', StandardScaler(), numeric_features)\n",
    "])\n",
    "\n",
    "column_trainsformer = ColumnTransformer([\n",
    "    ('ohe', OneHotEncoder(handle_unknown='ignore'), categorical_features),\n",
    "    ('scaling', StandardScaler(), numeric_features)\n",
    "])\n",
    "\n",
    "pipeline = Pipeline(steps=[\n",
    "    ('ohe_and_scaling', column_trainsformer),\n",
    "    ('tree', DecisionTreeRegressor())\n",
    "])\n",
    "\n",
    "param_grig = {\"tree__criterion\": [\"squared_error\", \"absolute_error\"],\n",
    "              \"tree__min_samples_split\": [5, 10, 20, 40, 50],\n",
    "              \"tree__max_depth\": [2, 6, 8, 10, 15, 30, 50],\n",
    "              \"tree__min_samples_leaf\": [5, 10, 20, 40, 100],\n",
    "              \"tree__max_leaf_nodes\": [5, 10, 20, 40, 100]}\n",
    "\n",
    "search = GridSearchCV(pipeline, param_grig, n_jobs=-1, scoring='r2')\n",
    "\n",
    "search.fit(X_train, y_train)\n"
   ]
  },
  {
   "cell_type": "code",
   "execution_count": 91,
   "metadata": {},
   "outputs": [
    {
     "name": "stdout",
     "output_type": "stream",
     "text": [
      "RMSE: 13.514757520357902\n",
      "R2: 0.9537868582884859\n"
     ]
    }
   ],
   "source": [
    "best_tree = search.best_estimator_\n",
    "model_tree = best_tree.fit(X_train, y_train)\n",
    "y_pred = model_tree.predict(X_test)\n",
    "print(f'RMSE: {mean_squared_error(y_test, y_pred, squared=False)}')\n",
    "print(f'R2: {r2_score(y_test, y_pred)}')"
   ]
  },
  {
   "attachments": {},
   "cell_type": "markdown",
   "metadata": {},
   "source": [
    "### Gradient Boosting"
   ]
  },
  {
   "cell_type": "code",
   "execution_count": null,
   "metadata": {},
   "outputs": [],
   "source": [
    "train_dataset = cb.Pool(X_train, y_train, \n",
    "                        cat_features=categorical_features)\n",
    "test_dataset = cb.Pool(X_test, y_test,\n",
    "                       cat_features=categorical_features)"
   ]
  },
  {
   "cell_type": "code",
   "execution_count": 111,
   "metadata": {},
   "outputs": [],
   "source": [
    "model = cb.CatBoostRegressor(loss_function='RMSE')"
   ]
  },
  {
   "cell_type": "code",
   "execution_count": 112,
   "metadata": {},
   "outputs": [],
   "source": [
    "grid = {'iterations': [100, 150, 200],\n",
    "        'learning_rate': [0.03, 0.1],\n",
    "        'depth': [2, 4, 6, 8],\n",
    "        'l2_leaf_reg': [0.2, 0.5, 1, 3]}"
   ]
  },
  {
   "cell_type": "code",
   "execution_count": null,
   "metadata": {},
   "outputs": [],
   "source": [
    "model.grid_search(grid, train_dataset)"
   ]
  },
  {
   "cell_type": "code",
   "execution_count": 115,
   "metadata": {},
   "outputs": [
    {
     "name": "stdout",
     "output_type": "stream",
     "text": [
      "Test preformance\n",
      "RMSE: 11.93\n",
      "R2: 0.96\n"
     ]
    },
    {
     "name": "stderr",
     "output_type": "stream",
     "text": [
      "/Users/ilyachernyaev/Documents/projects/.venv/lib/python3.9/site-packages/catboost/core.py:1419: FutureWarning: iteritems is deprecated and will be removed in a future version. Use .items instead.\n",
      "  self._init_pool(data, label, cat_features, text_features, embedding_features, embedding_features_data, pairs, weight,\n"
     ]
    }
   ],
   "source": [
    "pred = model.predict(X_test)\n",
    "rmse = (np.sqrt(mean_squared_error(y_test, pred)))\n",
    "r2 = r2_score(y_test, pred)\n",
    "\n",
    "print('Test preformance')\n",
    "print('RMSE: {:.2f}'.format(rmse))\n",
    "print('R2: {:.2f}'.format(r2))"
   ]
  },
  {
   "attachments": {},
   "cell_type": "markdown",
   "metadata": {},
   "source": [
    "# March model\n",
    "Only data values up to March were taken"
   ]
  },
  {
   "cell_type": "code",
   "execution_count": 6,
   "metadata": {},
   "outputs": [],
   "source": [
    "df = pd.read_csv('.data/data_march.csv', sep=';')"
   ]
  },
  {
   "cell_type": "code",
   "execution_count": 44,
   "metadata": {},
   "outputs": [],
   "source": [
    "# train/test split\n",
    "df_train = df[~df['year'].isin([2018, 2019, 2020, 2021])]\n",
    "df_test = df[df['year'].isin([2018, 2019, 2020, 2021])]\n",
    "\n",
    "X_train = df_train.drop(columns=['target'])\n",
    "y_train = df_train['target']\n",
    "\n",
    "X_test = df_test.drop(columns=['target'])\n",
    "y_test = df_test['target']"
   ]
  },
  {
   "cell_type": "code",
   "execution_count": 45,
   "metadata": {},
   "outputs": [],
   "source": [
    "numeric_features = list(X_train.drop(columns=['state', 'crop']).columns)\n",
    "categorical_features = ['state', 'crop']"
   ]
  },
  {
   "cell_type": "code",
   "execution_count": 46,
   "metadata": {},
   "outputs": [
    {
     "name": "stdout",
     "output_type": "stream",
     "text": [
      "RMSE: 30.177339858926647\n",
      "R2: 0.7695849269154751\n"
     ]
    }
   ],
   "source": [
    "column_trainsformer = ColumnTransformer([\n",
    "    ('ohe', OneHotEncoder(handle_unknown='ignore'), categorical_features),\n",
    "    ('scaling', StandardScaler(), numeric_features)\n",
    "])\n",
    "\n",
    "pipeline = Pipeline(steps=[\n",
    "    ('ohe_and_scaling', column_trainsformer),\n",
    "    ('regression', LinearRegression())\n",
    "])\n",
    "\n",
    "model = pipeline.fit(X_train, y_train)\n",
    "y_pred = model.predict(X_test)\n",
    "print(f'RMSE: {mean_squared_error(y_test, y_pred, squared=False)}')\n",
    "print(f'R2: {r2_score(y_test, y_pred)}')"
   ]
  },
  {
   "attachments": {},
   "cell_type": "markdown",
   "metadata": {},
   "source": [
    "### Decision Tree"
   ]
  },
  {
   "cell_type": "code",
   "execution_count": null,
   "metadata": {},
   "outputs": [],
   "source": [
    "# Create a pipeline\n",
    "column_trainsformer = ColumnTransformer([\n",
    "    ('ohe', OneHotEncoder(handle_unknown='ignore'), categorical_features),\n",
    "    ('scaling', StandardScaler(), numeric_features)\n",
    "])\n",
    "\n",
    "column_trainsformer = ColumnTransformer([\n",
    "    ('ohe', OneHotEncoder(handle_unknown='ignore'), categorical_features),\n",
    "    ('scaling', StandardScaler(), numeric_features)\n",
    "])\n",
    "\n",
    "pipeline = Pipeline(steps=[\n",
    "    ('ohe_and_scaling', column_trainsformer),\n",
    "    ('tree', DecisionTreeRegressor())\n",
    "])\n",
    "\n",
    "param_grig = {\"tree__criterion\": [\"squared_error\", \"absolute_error\"],\n",
    "              \"tree__min_samples_split\": [5, 10, 20, 40, 50],\n",
    "              \"tree__max_depth\": [2, 6, 8, 10, 15, 30, 50],\n",
    "              \"tree__min_samples_leaf\": [5, 10, 20, 40, 100],\n",
    "              \"tree__max_leaf_nodes\": [5, 10, 20, 40, 100]}\n",
    "\n",
    "search = GridSearchCV(pipeline, param_grig, n_jobs=-1, scoring='r2')\n",
    "\n",
    "search.fit(X_train, y_train)"
   ]
  },
  {
   "cell_type": "code",
   "execution_count": 49,
   "metadata": {},
   "outputs": [
    {
     "name": "stdout",
     "output_type": "stream",
     "text": [
      "RMSE: 16.282918203169075\n",
      "R2: 0.9329168479804021\n"
     ]
    }
   ],
   "source": [
    "best_tree = search.best_estimator_\n",
    "model_tree = best_tree.fit(X_train, y_train)\n",
    "y_pred = model_tree.predict(X_test)\n",
    "print(f'RMSE: {mean_squared_error(y_test, y_pred, squared=False)}')\n",
    "print(f'R2: {r2_score(y_test, y_pred)}')"
   ]
  },
  {
   "attachments": {},
   "cell_type": "markdown",
   "metadata": {},
   "source": [
    "### Gradient Boosting"
   ]
  },
  {
   "cell_type": "code",
   "execution_count": null,
   "metadata": {},
   "outputs": [],
   "source": [
    "train_dataset = cb.Pool(X_train, y_train, \n",
    "                        cat_features=categorical_features)\n",
    "test_dataset = cb.Pool(X_test, y_test,\n",
    "                       cat_features=categorical_features)"
   ]
  },
  {
   "cell_type": "code",
   "execution_count": 57,
   "metadata": {},
   "outputs": [],
   "source": [
    "model = cb.CatBoostRegressor(loss_function='RMSE',\n",
    "                             eval_metric='R2')"
   ]
  },
  {
   "cell_type": "code",
   "execution_count": 62,
   "metadata": {},
   "outputs": [],
   "source": [
    "grid = {'iterations': [100, 150, 200, 500, 1000],\n",
    "        'learning_rate': [0.01, 0.05, 0.1, 0.3],\n",
    "        'depth': [2, 4, 6, 8],\n",
    "        'l2_leaf_reg': [0.2, 0.5, 1, 3, 5, 10, 100]}"
   ]
  },
  {
   "cell_type": "code",
   "execution_count": null,
   "metadata": {},
   "outputs": [],
   "source": [
    "model.grid_search(grid, train_dataset, plot=True)"
   ]
  },
  {
   "cell_type": "code",
   "execution_count": null,
   "metadata": {},
   "outputs": [],
   "source": [
    "best_model = model.fit(train_dataset)"
   ]
  },
  {
   "cell_type": "code",
   "execution_count": 77,
   "metadata": {},
   "outputs": [
    {
     "name": "stdout",
     "output_type": "stream",
     "text": [
      "Test preformance\n",
      "RMSE: 12.12\n",
      "R2: 0.96\n"
     ]
    },
    {
     "name": "stderr",
     "output_type": "stream",
     "text": [
      "/Users/ilyachernyaev/Documents/projects/.venv/lib/python3.9/site-packages/catboost/core.py:1419: FutureWarning: iteritems is deprecated and will be removed in a future version. Use .items instead.\n",
      "  self._init_pool(data, label, cat_features, text_features, embedding_features, embedding_features_data, pairs, weight,\n"
     ]
    }
   ],
   "source": [
    "pred = best_model.predict(X_test)\n",
    "rmse = (np.sqrt(mean_squared_error(y_test, pred)))\n",
    "r2 = r2_score(y_test, pred)\n",
    "\n",
    "print('Test preformance')\n",
    "print('RMSE: {:.2f}'.format(rmse))\n",
    "print('R2: {:.2f}'.format(r2))"
   ]
  },
  {
   "attachments": {},
   "cell_type": "markdown",
   "metadata": {},
   "source": [
    "# June model\n",
    "Only data values up to June were taken"
   ]
  },
  {
   "cell_type": "code",
   "execution_count": 9,
   "metadata": {},
   "outputs": [],
   "source": [
    "df = pd.read_csv('.data/data_june.csv', sep=';')"
   ]
  },
  {
   "cell_type": "code",
   "execution_count": 91,
   "metadata": {},
   "outputs": [],
   "source": [
    "# train/test split\n",
    "df_train = df[~df['year'].isin([2018, 2019, 2020, 2021])]\n",
    "df_test = df[df['year'].isin([2018, 2019, 2020, 2021])]\n",
    "\n",
    "X_train = df_train.drop(columns=['target'])\n",
    "y_train = df_train['target']\n",
    "\n",
    "X_test = df_test.drop(columns=['target'])\n",
    "y_test = df_test['target']\n",
    "\n",
    "# \n",
    "numeric_features = list(X_train.drop(columns=['state', 'crop']).columns)\n",
    "categorical_features = ['state', 'crop']"
   ]
  },
  {
   "cell_type": "code",
   "execution_count": 92,
   "metadata": {},
   "outputs": [
    {
     "name": "stdout",
     "output_type": "stream",
     "text": [
      "RMSE: 37.54385127096785\n",
      "R2: 0.6433628179491475\n"
     ]
    }
   ],
   "source": [
    "column_trainsformer = ColumnTransformer([\n",
    "    ('ohe', OneHotEncoder(handle_unknown='ignore'), categorical_features),\n",
    "    ('scaling', StandardScaler(), numeric_features)\n",
    "])\n",
    "\n",
    "pipeline = Pipeline(steps=[\n",
    "    ('ohe_and_scaling', column_trainsformer),\n",
    "    ('regression', LinearRegression())\n",
    "])\n",
    "\n",
    "model = pipeline.fit(X_train, y_train)\n",
    "y_pred = model.predict(X_test)\n",
    "print(f'RMSE: {mean_squared_error(y_test, y_pred, squared=False)}')\n",
    "print(f'R2: {r2_score(y_test, y_pred)}')"
   ]
  },
  {
   "attachments": {},
   "cell_type": "markdown",
   "metadata": {},
   "source": [
    "### Decision Tree"
   ]
  },
  {
   "cell_type": "code",
   "execution_count": 93,
   "metadata": {},
   "outputs": [
    {
     "name": "stdout",
     "output_type": "stream",
     "text": [
      "RMSE: 16.95784166821787\n",
      "R2: 0.927240428933661\n"
     ]
    }
   ],
   "source": [
    "# Create a pipeline\n",
    "column_trainsformer = ColumnTransformer([\n",
    "    ('ohe', OneHotEncoder(handle_unknown='ignore'), categorical_features),\n",
    "    ('scaling', StandardScaler(), numeric_features)\n",
    "])\n",
    "\n",
    "column_trainsformer = ColumnTransformer([\n",
    "    ('ohe', OneHotEncoder(handle_unknown='ignore'), categorical_features),\n",
    "    ('scaling', StandardScaler(), numeric_features)\n",
    "])\n",
    "\n",
    "pipeline = Pipeline(steps=[\n",
    "    ('ohe_and_scaling', column_trainsformer),\n",
    "    ('tree', DecisionTreeRegressor())\n",
    "])\n",
    "\n",
    "param_grig = {\"tree__criterion\": [\"squared_error\", \"absolute_error\"],\n",
    "              \"tree__min_samples_split\": [5, 10, 20, 40, 50],\n",
    "              \"tree__max_depth\": [2, 6, 8, 10, 15, 30, 50],\n",
    "              \"tree__min_samples_leaf\": [5, 10, 20, 40, 100],\n",
    "              \"tree__max_leaf_nodes\": [5, 10, 20, 40, 100]}\n",
    "\n",
    "search = GridSearchCV(pipeline, param_grig, n_jobs=-1, scoring='r2')\n",
    "\n",
    "search.fit(X_train, y_train)\n",
    "\n",
    "best_tree = search.best_estimator_\n",
    "model_tree = best_tree.fit(X_train, y_train)\n",
    "y_pred = model_tree.predict(X_test)\n",
    "print(f'RMSE: {mean_squared_error(y_test, y_pred, squared=False)}')\n",
    "print(f'R2: {r2_score(y_test, y_pred)}')"
   ]
  },
  {
   "attachments": {},
   "cell_type": "markdown",
   "metadata": {},
   "source": [
    "### Gradient Boosting"
   ]
  },
  {
   "cell_type": "code",
   "execution_count": null,
   "metadata": {},
   "outputs": [],
   "source": [
    "# Create datasets\n",
    "train_dataset = cb.Pool(X_train, y_train, \n",
    "                        cat_features=categorical_features)\n",
    "test_dataset = cb.Pool(X_test, y_test,\n",
    "                       cat_features=categorical_features)\n",
    "\n",
    "# Define the model\n",
    "model = cb.CatBoostRegressor(loss_function='RMSE')\n",
    "\n",
    "# Define grid\n",
    "grid = {'iterations': [100, 150, 200],\n",
    "        'learning_rate': [0.03, 0.1],\n",
    "        'depth': [2, 4, 6, 8],\n",
    "        'l2_leaf_reg': [0.2, 0.5, 1, 3]}\n",
    "\n",
    "# Train the model\n",
    "model.grid_search(grid, train_dataset, plot=True)"
   ]
  },
  {
   "cell_type": "code",
   "execution_count": null,
   "metadata": {},
   "outputs": [],
   "source": [
    "best_model_june = model.fit(train_dataset)"
   ]
  },
  {
   "cell_type": "code",
   "execution_count": 96,
   "metadata": {},
   "outputs": [
    {
     "name": "stdout",
     "output_type": "stream",
     "text": [
      "Test preformance\n",
      "RMSE: 11.38\n",
      "R2: 0.97\n"
     ]
    }
   ],
   "source": [
    "pred = best_model_june.predict(X_test)\n",
    "rmse = (np.sqrt(mean_squared_error(y_test, pred)))\n",
    "r2 = r2_score(y_test, pred)\n",
    "\n",
    "print('Test preformance')\n",
    "print('RMSE: {:.2f}'.format(rmse))\n",
    "print('R2: {:.2f}'.format(r2))"
   ]
  },
  {
   "attachments": {},
   "cell_type": "markdown",
   "metadata": {},
   "source": [
    "# August model\n",
    "Only data values up to August were taken"
   ]
  },
  {
   "cell_type": "code",
   "execution_count": 11,
   "metadata": {},
   "outputs": [],
   "source": [
    "df = pd.read_csv('.data/data_august.csv', sep=';')"
   ]
  },
  {
   "cell_type": "code",
   "execution_count": 98,
   "metadata": {},
   "outputs": [],
   "source": [
    "# train/test split\n",
    "df_train = df[~df['year'].isin([2018, 2019, 2020, 2021])]\n",
    "df_test = df[df['year'].isin([2018, 2019, 2020, 2021])]\n",
    "\n",
    "X_train = df_train.drop(columns=['target'])\n",
    "y_train = df_train['target']\n",
    "\n",
    "X_test = df_test.drop(columns=['target'])\n",
    "y_test = df_test['target']\n",
    "\n",
    "# \n",
    "numeric_features = list(X_train.drop(columns=['state', 'crop']).columns)\n",
    "categorical_features = ['state', 'crop']"
   ]
  },
  {
   "cell_type": "code",
   "execution_count": 99,
   "metadata": {},
   "outputs": [
    {
     "name": "stdout",
     "output_type": "stream",
     "text": [
      "RMSE: 36.37961055393746\n",
      "R2: 0.6651386149117529\n"
     ]
    }
   ],
   "source": [
    "column_trainsformer = ColumnTransformer([\n",
    "    ('ohe', OneHotEncoder(handle_unknown='ignore'), categorical_features),\n",
    "    ('scaling', StandardScaler(), numeric_features)\n",
    "])\n",
    "\n",
    "pipeline = Pipeline(steps=[\n",
    "    ('ohe_and_scaling', column_trainsformer),\n",
    "    ('regression', LinearRegression())\n",
    "])\n",
    "\n",
    "model = pipeline.fit(X_train, y_train)\n",
    "y_pred = model.predict(X_test)\n",
    "print(f'RMSE: {mean_squared_error(y_test, y_pred, squared=False)}')\n",
    "print(f'R2: {r2_score(y_test, y_pred)}')"
   ]
  },
  {
   "attachments": {},
   "cell_type": "markdown",
   "metadata": {},
   "source": [
    "### Decision Tree"
   ]
  },
  {
   "cell_type": "code",
   "execution_count": 100,
   "metadata": {},
   "outputs": [
    {
     "name": "stdout",
     "output_type": "stream",
     "text": [
      "RMSE: 13.276292572298692\n",
      "R2: 0.9554033119735253\n"
     ]
    }
   ],
   "source": [
    "# Create a pipeline\n",
    "column_trainsformer = ColumnTransformer([\n",
    "    ('ohe', OneHotEncoder(handle_unknown='ignore'), categorical_features),\n",
    "    ('scaling', StandardScaler(), numeric_features)\n",
    "])\n",
    "\n",
    "column_trainsformer = ColumnTransformer([\n",
    "    ('ohe', OneHotEncoder(handle_unknown='ignore'), categorical_features),\n",
    "    ('scaling', StandardScaler(), numeric_features)\n",
    "])\n",
    "\n",
    "pipeline = Pipeline(steps=[\n",
    "    ('ohe_and_scaling', column_trainsformer),\n",
    "    ('tree', DecisionTreeRegressor())\n",
    "])\n",
    "\n",
    "param_grig = {\"tree__criterion\": [\"squared_error\", \"absolute_error\"],\n",
    "              \"tree__min_samples_split\": [5, 10, 20, 40, 50],\n",
    "              \"tree__max_depth\": [2, 6, 8, 10, 15, 30, 50],\n",
    "              \"tree__min_samples_leaf\": [5, 10, 20, 40, 100],\n",
    "              \"tree__max_leaf_nodes\": [5, 10, 20, 40, 100]}\n",
    "\n",
    "search = GridSearchCV(pipeline, param_grig, n_jobs=-1, scoring='r2')\n",
    "\n",
    "search.fit(X_train, y_train)\n",
    "\n",
    "best_tree = search.best_estimator_\n",
    "model_tree = best_tree.fit(X_train, y_train)\n",
    "y_pred = model_tree.predict(X_test)\n",
    "print(f'RMSE: {mean_squared_error(y_test, y_pred, squared=False)}')\n",
    "print(f'R2: {r2_score(y_test, y_pred)}')\n"
   ]
  },
  {
   "attachments": {},
   "cell_type": "markdown",
   "metadata": {},
   "source": [
    "### Gradient Boostng"
   ]
  },
  {
   "cell_type": "code",
   "execution_count": null,
   "metadata": {},
   "outputs": [],
   "source": [
    "# Create datasets\n",
    "train_dataset = cb.Pool(X_train, y_train, \n",
    "                        cat_features=categorical_features)\n",
    "test_dataset = cb.Pool(X_test, y_test,\n",
    "                       cat_features=categorical_features)\n",
    "\n",
    "# Define the model\n",
    "model = cb.CatBoostRegressor(loss_function='RMSE')\n",
    "\n",
    "# Define grid\n",
    "grid = {'iterations': [100, 150, 200],\n",
    "        'learning_rate': [0.03, 0.1],\n",
    "        'depth': [2, 4, 6, 8],\n",
    "        'l2_leaf_reg': [0.2, 0.5, 1, 3]}\n",
    "\n",
    "# Train the model\n",
    "model.grid_search(grid, train_dataset)"
   ]
  },
  {
   "cell_type": "code",
   "execution_count": null,
   "metadata": {},
   "outputs": [],
   "source": [
    "best_model_august = model.fit(train_dataset)"
   ]
  },
  {
   "cell_type": "code",
   "execution_count": 104,
   "metadata": {},
   "outputs": [
    {
     "name": "stdout",
     "output_type": "stream",
     "text": [
      "Test preformance\n",
      "RMSE: 11.94\n",
      "R2: 0.96\n"
     ]
    },
    {
     "name": "stderr",
     "output_type": "stream",
     "text": [
      "/Users/ilyachernyaev/Documents/projects/.venv/lib/python3.9/site-packages/catboost/core.py:1419: FutureWarning: iteritems is deprecated and will be removed in a future version. Use .items instead.\n",
      "  self._init_pool(data, label, cat_features, text_features, embedding_features, embedding_features_data, pairs, weight,\n"
     ]
    }
   ],
   "source": [
    "pred = model.predict(X_test)\n",
    "rmse = (np.sqrt(mean_squared_error(y_test, pred)))\n",
    "r2 = r2_score(y_test, pred)\n",
    "\n",
    "print('Test preformance')\n",
    "print('RMSE: {:.2f}'.format(rmse))\n",
    "print('R2: {:.2f}'.format(r2))"
   ]
  }
 ],
 "metadata": {
  "kernelspec": {
   "display_name": ".venv",
   "language": "python",
   "name": "python3"
  },
  "language_info": {
   "codemirror_mode": {
    "name": "ipython",
    "version": 3
   },
   "file_extension": ".py",
   "mimetype": "text/x-python",
   "name": "python",
   "nbconvert_exporter": "python",
   "pygments_lexer": "ipython3",
   "version": "3.9.7 (default, Sep 16 2021, 08:50:36) \n[Clang 10.0.0 ]"
  },
  "orig_nbformat": 4,
  "vscode": {
   "interpreter": {
    "hash": "cd7a78f8db2622b4f1363e79cc4853e2a86179cb4a4b5d32105f7a2fceb6e3cf"
   }
  }
 },
 "nbformat": 4,
 "nbformat_minor": 2
}
